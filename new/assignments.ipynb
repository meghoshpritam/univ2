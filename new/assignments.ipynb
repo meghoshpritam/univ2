{
 "cells": [
  {
   "cell_type": "markdown",
   "metadata": {},
   "source": [
    "# Norden\n",
    "\n",
    "Relay graph of Norden"
   ]
  },
  {
   "cell_type": "code",
   "execution_count": 1,
   "metadata": {},
   "outputs": [
    {
     "name": "stdout",
     "output_type": "stream",
     "text": [
      "###################   Norden formula   ###################\n",
      "\n",
      "Required effort at time t, E= 1.0509 PM\n",
      "\n",
      "\n"
     ]
    },
    {
     "data": {
      "image/png": "[encoded data removed]",
      "text/plain": [
       "<Figure size 432x288 with 1 Axes>"
      ]
     },
     "metadata": {
      "needs_background": "light"
     },
     "output_type": "display_data"
    }
   ],
   "source": [
    "# relay graph of norden\n",
    "import matplotlib.pyplot as plt\n",
    "\n",
    "\n",
    "def nordan(k, td, t):\n",
    "    p = 2 * (pow(td, 2))\n",
    "    q = pow(t, 2)\n",
    "    r = pow(2.7182, (-q / p))\n",
    "    return (k / pow(td, 2)) * t * r\n",
    "\n",
    "\n",
    "def relay_graph(k, td, t):\n",
    "    project_duration = 3 * int(td)\n",
    "    y = [round(nordan(k, td, time), 5) for time in range(0, project_duration)]\n",
    "\n",
    "    plt.plot(y, color=\"blue\", linewidth=4, label=\"Effort respect to time\")\n",
    "    plt.vlines(\n",
    "        x=td,\n",
    "        ymin=0,\n",
    "        ymax=round(nordan(k, td, td), 5),\n",
    "        color=\"green\",\n",
    "        linestyle=\"dashed\",\n",
    "        linewidth=4,\n",
    "        label=td,\n",
    "    )\n",
    "    plt.vlines(\n",
    "        x=t,\n",
    "        ymin=0,\n",
    "        ymax=round(nordan(k, td, t), 5),\n",
    "        color=\"red\",\n",
    "        linestyle=\"dashed\",\n",
    "        linewidth=4,\n",
    "        label=\"t\",\n",
    "    )\n",
    "    plt.legend(loc=\"upper right\")\n",
    "    plt.xlabel(\"time\")\n",
    "    plt.ylabel(\"Effort per unit time\")\n",
    "    plt.title(\"r_curve\")\n",
    "    plt.show()\n",
    "\n",
    "\n",
    "\n",
    "print(\"###################   Norden formula   ###################\")\n",
    "k = float(input(\"Enter area under the curve(k): \"))\n",
    "td = float(input(\"Enter the maximum value of curve(td): \"))\n",
    "t = float(input(\"Enter effort time(t) in month: \"))\n",
    "\n",
    "print(\"\\nRequired effort at time t, E=\", round(nordan(k, td, t), 5), \"PM\\n\\n\")\n",
    "relay_graph(k, td, t)"
   ]
  }
 ],
 "metadata": {
  "interpreter": {
   "hash": "2abadb96382fed0e24398e049c1d3e282b7f9e8124e37680a6398616285c2ab7"
  },
  "kernelspec": {
   "display_name": "Python 3.10.0 ('final-yeal')",
   "language": "python",
   "name": "python3"
  },
  "language_info": {
   "codemirror_mode": {
    "name": "ipython",
    "version": 3
   },
   "file_extension": ".py",
   "mimetype": "text/x-python",
   "name": "python",
   "nbconvert_exporter": "python",
   "pygments_lexer": "ipython3",
   "version": "3.10.0"
  },
  "orig_nbformat": 4
 },
 "nbformat": 4,
 "nbformat_minor": 2
}
